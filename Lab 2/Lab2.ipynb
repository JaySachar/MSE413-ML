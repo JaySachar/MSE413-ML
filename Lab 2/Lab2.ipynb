{
 "cells": [
  {
   "cell_type": "markdown",
   "metadata": {},
   "source": [
    "## Lab Assignment 2 - Multiclass classification\n",
    "**Classification of Robots from their Conversation**\n",
    "\n",
    "Jacob Wahyladi\n",
    "\n",
    "Ethan Silver\n",
    "\n",
    "Jay Sachar "
   ]
  },
  {
   "cell_type": "markdown",
   "metadata": {},
   "source": [
    "# Initialize General Packages "
   ]
  },
  {
   "cell_type": "code",
   "execution_count": 1,
   "metadata": {},
   "outputs": [],
   "source": [
    "import pandas as pd\n",
    "import numpy as np\n",
    "import matplotlib.pyplot as plt\n",
    "import seaborn as sns"
   ]
  },
  {
   "cell_type": "markdown",
   "metadata": {},
   "source": [
    "# 1. Getting Started"
   ]
  },
  {
   "cell_type": "code",
   "execution_count": 23,
   "metadata": {},
   "outputs": [
    {
     "name": "stdout",
     "output_type": "stream",
     "text": [
      "   Robot   num1    num2     num3     num4      num5       num6       num7  \\\n",
      "0      1      2       5        2        5         6          2          1   \n",
      "1      2   1747    1749     1751     1758      1765       1767       1772   \n",
      "2      3  65056  195168  1561344  7806720  31226880  187361280  749445120   \n",
      "3      4   2855    2860     2865     2870      2875       2880       2885   \n",
      "4      5  11440   57200   286000  1430000   7150000   35750000  178750000   \n",
      "5      1      4       9        5        4         8          6          6   \n",
      "6      2   1487    1491     1498     1503      1512       1514       1518   \n",
      "7      3  18850   18850   113100   452400    452400    1809600    3619200   \n",
      "8      4   8962    8967     8972     8977      8982       8987       8992   \n",
      "9      5   2870   14350    71750   358750   1793750    8968750   44843750   \n",
      "\n",
      "           num8          num9         num10  \n",
      "0  8.000000e+00  1.000000e+00  3.000000e+00  \n",
      "1  1.774000e+03  1.783000e+03  1.785000e+03  \n",
      "2  6.745006e+09  6.745006e+09  6.745006e+09  \n",
      "3  2.890000e+03  2.895000e+03  2.900000e+03  \n",
      "4  8.937500e+08  4.468750e+09  2.234375e+10  \n",
      "5  7.000000e+00  7.000000e+00  2.000000e+00  \n",
      "6  1.522000e+03  1.524000e+03  1.528000e+03  \n",
      "7  3.619200e+06  7.238400e+06  5.066880e+07  \n",
      "8  8.997000e+03  9.002000e+03  9.007000e+03  \n",
      "9  2.242188e+08  1.121094e+09  5.605469e+09  \n"
     ]
    }
   ],
   "source": [
    "# Load the conversation Data set \n",
    "conv_df = pd.read_csv(r\"C:\\Users\\Jay\\Documents\\Github\\MSE413-ML\\Lab 2\\Classification of Robots from their conversation sequence.csv\")\n",
    "print(conv_df.head(10))\n",
    "X_data = conv_df.drop(columns=['Robot']) #Drop target variable\n",
    "Y_data = conv_df['Robot'] #Set Y to be the target variable"
   ]
  },
  {
   "cell_type": "markdown",
   "metadata": {},
   "source": [
    "# 2. Decision Tree Classifier"
   ]
  },
  {
   "cell_type": "code",
   "execution_count": 24,
   "metadata": {},
   "outputs": [],
   "source": [
    "#2.1 Split the dataset into training (80%) and test (20%). Consider random effects in splitting the dataset\n",
    "from sklearn.model_selection import train_test_split\n",
    "X_train, X_test, Y_train, Y_test = train_test_split(X_data, Y_data, test_size=0.2, random_state=42) # Not sure how to consider random effects in splitting the data tbh\n"
   ]
  },
  {
   "cell_type": "code",
   "execution_count": 62,
   "metadata": {},
   "outputs": [],
   "source": [
    "#2.3 Evaluate and discuss the performance of the model on the test set by providing the confusion matrix and metrics of classification (accuracy, sensitivity, specificity, and f1 score).\n",
    "\n",
    "from sklearn.tree import DecisionTreeClassifier\n",
    "from sklearn.metrics import confusion_matrix, accuracy_score, precision_score, recall_score, f1_score\n",
    "\n",
    "def DT_metrics(y_test, x_test, x_train, y_train, depth):\n",
    "    clf = DecisionTreeClassifier(max_depth=depth)\n",
    "    # Train the decision tree\n",
    "    clf.fit(x_train, y_train)\n",
    "    \n",
    "    y_pred = clf.predict(x_test) # Y_ decision tree_ predictions \n",
    "\n",
    "    DT_accuracy = accuracy_score(y_test, y_pred)\n",
    "    DT_precision = precision_score(y_test, y_pred, average='macro')\n",
    "    DT_recall = recall_score(y_test, y_pred, average='macro')\n",
    "    DT_f1 = f1_score(y_test, y_pred, average='macro')\n",
    "    DT_conf_matrix = confusion_matrix(y_test, y_pred,)\n",
    "\n",
    "    print(f'Metrics for Depth = {depth}')\n",
    "    print(f'Accuracy: {DT_accuracy}')\n",
    "    print(f'Precision: {DT_precision}')\n",
    "    print(f'Recall: {DT_recall}')\n",
    "    print(f'F1-score: {DT_f1}')\n",
    "    print(f'Confusion Matrix:\\n{DT_conf_matrix}')\n",
    "    return DT_accuracy, DT_precision, DT_recall, DT_f1, DT_conf_matrix, clf"
   ]
  },
  {
   "cell_type": "code",
   "execution_count": 63,
   "metadata": {},
   "outputs": [
    {
     "name": "stdout",
     "output_type": "stream",
     "text": [
      "Metrics for Depth = 20\n",
      "Accuracy: 0.78791\n",
      "Precision: 0.8856602186584075\n",
      "Recall: 0.7882824610459307\n",
      "F1-score: 0.7224256351360654\n",
      "Confusion Matrix:\n",
      "[[19909     0     0     0     0]\n",
      " [    0    75     0 19952     0]\n",
      " [    0     1 18909     0  1256]\n",
      " [    0     0     0 20024     0]\n",
      " [    0     0     0     0 19874]]\n"
     ]
    }
   ],
   "source": [
    "#2.2 Train a decision tree classifier with default parameters and dept of 20, on the train set\n",
    "DT_accuracy_depth_20, DT_precision_depth_20, DT_recall_depth_20, DT_f1_depth_20, DT_conf_matrix_depth_20, clf_depth_20 = DT_metrics(Y_test, X_test, X_train, Y_train, depth=20)"
   ]
  },
  {
   "cell_type": "code",
   "execution_count": 43,
   "metadata": {},
   "outputs": [
    {
     "name": "stderr",
     "output_type": "stream",
     "text": [
      "c:\\Users\\Jay\\Documents\\Github\\MSE413-ML\\venv\\Lib\\site-packages\\sklearn\\metrics\\_classification.py:1471: UndefinedMetricWarning: Precision is ill-defined and being set to 0.0 in labels with no predicted samples. Use `zero_division` parameter to control this behavior.\n",
      "  _warn_prf(average, modifier, msg_start, len(result))\n"
     ]
    },
    {
     "name": "stdout",
     "output_type": "stream",
     "text": [
      "Metrics for Depth = 1\n",
      "Accuracy: 0.39783\n",
      "Precision: 0.24961912198349934\n",
      "Recall: 0.4\n",
      "F1-score: 0.2795196061385484\n",
      "Confusion Matrix:\n",
      "[[19909     0     0     0     0]\n",
      " [    0     0     0     0 20027]\n",
      " [    1     0     0     0 20165]\n",
      " [    0     0     0     0 20024]\n",
      " [    0     0     0     0 19874]]\n",
      "Metrics for Depth = 5\n",
      "Accuracy: 0.74146\n",
      "Precision: 0.8325517267333179\n",
      "Recall: 0.7421159929188916\n",
      "F1-score: 0.6745883365990133\n",
      "Confusion Matrix:\n",
      "[[19909     0     0     0     0]\n",
      " [    0    11     0 20016     0]\n",
      " [    0     1 14976     0  5189]\n",
      " [    0     0     0 20024     0]\n",
      " [    0     0   648     0 19226]]\n",
      "Metrics for Depth = 10\n",
      "Accuracy: 0.77575\n",
      "Precision: 0.8721121785168771\n",
      "Recall: 0.7762155182822239\n",
      "F1-score: 0.7096987529321311\n",
      "Confusion Matrix:\n",
      "[[19909     0     0     0     0]\n",
      " [    0    32     0 19995     0]\n",
      " [    0     1 17764     0  2401]\n",
      " [    0     0     0 20024     0]\n",
      " [    0     0    28     0 19846]]\n",
      "Metrics for Depth = 50\n",
      "Accuracy: 0.80315\n",
      "Precision: 0.8034139793500398\n",
      "Recall: 0.8034011906555261\n",
      "F1-score: 0.8032641157950596\n",
      "Confusion Matrix:\n",
      "[[19909     0     0     0     0]\n",
      " [    0 10725     0  9302     0]\n",
      " [    0     1 20147     0    18]\n",
      " [    0 10364     0  9660     0]\n",
      " [    0     0     0     0 19874]]\n",
      "Metrics for Depth = 100\n",
      "Accuracy: 0.80957\n",
      "Precision: 0.809853389417702\n",
      "Recall: 0.8098128899354095\n",
      "F1-score: 0.8096345995588852\n",
      "Confusion Matrix:\n",
      "[[19909     0     0     0     0]\n",
      " [    0 11130     0  8897     0]\n",
      " [    0     1 20147     0    18]\n",
      " [    0 10127     0  9897     0]\n",
      " [    0     0     0     0 19874]]\n"
     ]
    }
   ],
   "source": [
    "# Investigate the effect of maximum depth on the accuracy of the model for the followingdepths: 1, 5, 10, 20, 50, and 100. Discuss the results.\n",
    "DT_accuracy_depth_1, _, _, _, _, _ = DT_metrics(Y_test, X_train, Y_train, depth=1)\n",
    "DT_accuracy_depth_5, _, _, _, _, _ = DT_metrics(Y_test, X_train, Y_train, depth=5)\n",
    "DT_accuracy_depth_10, _, _, _, _, _ = DT_metrics(Y_test, X_train, Y_train, depth=10)\n",
    "DT_accuracy_depth_50, _, _, _, _, _ = DT_metrics(Y_test, X_train, Y_train, depth=50)\n",
    "DT_accuracy_depth_100, _, _, _, _, _ = DT_metrics(Y_test, X_train, Y_train, depth=100)\n",
    "\n"
   ]
  },
  {
   "cell_type": "code",
   "execution_count": 59,
   "metadata": {},
   "outputs": [
    {
     "data": {
      "image/png": "[encoded data removed]",
      "text/plain": [
       "<Figure size 640x480 with 1 Axes>"
      ]
     },
     "metadata": {},
     "output_type": "display_data"
    }
   ],
   "source": [
    "# Plot a bar graph comparing the depth to accuarcy\n",
    "depths = [1, 5, 10, 20, 50, 100]\n",
    "accuracies = [DT_accuracy_depth_1, DT_accuracy_depth_5, DT_accuracy_depth_10, DT_accuracy_depth_20, DT_accuracy_depth_50, DT_accuracy_depth_100]\n",
    "\n",
    "colors = ['r', 'g', 'b', 'y', 'c', 'm']\n",
    "\n",
    "bar_width = 0.98  # Width of each bar\n",
    "index = np.arange(len(depths))  # Index for each depth\n",
    "for i in range(len(depths)):\n",
    "    plt.bar(index[i], accuracies[i], bar_width, label='Depth', color=colors[i])\n",
    "# Add labels and title\n",
    "plt.xlabel('Depth')\n",
    "plt.ylabel('Accuracy')\n",
    "plt.title('Accuracy of Decision Trees with Different Depths')\n",
    "plt.xticks(index, depths)  # Set x-ticks to be the depths\n",
    "\n",
    "# Show the plot\n",
    "plt.show()"
   ]
  },
  {
   "cell_type": "markdown",
   "metadata": {},
   "source": [
    "# 3. Random Forest Classifier "
   ]
  },
  {
   "cell_type": "code",
   "execution_count": null,
   "metadata": {},
   "outputs": [],
   "source": [
    "#3.1 Split the dataset into training (80%) and test set (20%). Consider random effects in splitting the dataset\n",
    "from sklearn.model_selection import train_test_split\n",
    "X_train, X_test, Y_train, Y_test = train_test_split(X_data, Y_data, test_size=0.2, random_state=42) # Not sure how to consider random effects in splitting the data tbh\n"
   ]
  },
  {
   "cell_type": "code",
   "execution_count": 70,
   "metadata": {},
   "outputs": [],
   "source": [
    "# Create a general function to train a Random Forest Classifier at different depths and estimators\n",
    "from sklearn.ensemble import RandomForestClassifier\n",
    "from sklearn.metrics import confusion_matrix, accuracy_score, precision_score, recall_score, f1_score\n",
    "\n",
    "def RF_metrics(y_test, x_test, x_train, y_train, depth, estimators):\n",
    "    RF_clf = RandomForestClassifier(n_estimators = estimators,max_depth=depth)\n",
    "    # Train the Random Forest tree\n",
    "    RF_clf.fit(x_train, y_train)\n",
    "    \n",
    "    y_pred = RF_clf.predict(x_test) # Y_ decision tree_ predictions \n",
    "\n",
    "    RF_accuracy = accuracy_score(y_test, y_pred)\n",
    "    RF_precision = precision_score(y_test, y_pred, average='macro')\n",
    "    RF_recall = recall_score(y_test, y_pred, average='macro')\n",
    "    RF_f1 = f1_score(y_test, y_pred, average='macro')\n",
    "    RF_conf_matrix = confusion_matrix(y_test, y_pred,)\n",
    "\n",
    "    print(f'Metrics for Depth = {depth} and Number of Estimators = {estimators}')\n",
    "    print(f'Accuracy: {RF_accuracy}')\n",
    "    print(f'Precision: {RF_precision}')\n",
    "    print(f'Recall: {RF_recall}')\n",
    "    print(f'F1-score: {RF_f1}')\n",
    "    print(f'Confusion Matrix:\\n{RF_conf_matrix}')\n",
    "    return RF_accuracy, RF_precision, RF_recall, RF_f1, RF_conf_matrix, RF_clf, RF_clf.feature_importances_"
   ]
  },
  {
   "cell_type": "code",
   "execution_count": 67,
   "metadata": {},
   "outputs": [
    {
     "name": "stdout",
     "output_type": "stream",
     "text": [
      "Metrics for Depth = 20 and Number of Estimators = 20\n",
      "Accuracy: 0.807\n",
      "Precision: 0.8074821766903899\n",
      "Recall: 0.807299511623167\n",
      "F1-score: 0.8072443728209336\n",
      "Confusion Matrix:\n",
      "[[19909     0     0     0     0]\n",
      " [    0 10788     0  9239     0]\n",
      " [    0     1 19393     0   772]\n",
      " [    0  9288     0 10736     0]\n",
      " [    0     0     0     0 19874]]\n"
     ]
    }
   ],
   "source": [
    "#3.2 Train a random forest classifier on the train set with a number of estimators of 20 and a max depth of 20. \n",
    "#3.3 Evaluate and discuss the performance of the model on the test set by providing the confusion matrix and metrics of classification (accuarcy, sensisitivty, specificity, and f1 score)\n",
    "RF_accuracy_est_20_depth_20, RF_precision_est_20_depth_20, RF_recall_est_20_depth_20, RF_f1_est_20_depth_20, RF_conf_matrix_est_20_depth_20, RF_clf_est_20_depth_20, RF_feature_importances_est_20_depth_20  = RF_metrics(Y_test, X_test, X_train, Y_train, depth=20, estimators=20)"
   ]
  },
  {
   "cell_type": "code",
   "execution_count": 71,
   "metadata": {},
   "outputs": [
    {
     "name": "stderr",
     "output_type": "stream",
     "text": [
      "c:\\Users\\Jay\\Documents\\Github\\MSE413-ML\\venv\\Lib\\site-packages\\sklearn\\metrics\\_classification.py:1471: UndefinedMetricWarning: Precision is ill-defined and being set to 0.0 in labels with no predicted samples. Use `zero_division` parameter to control this behavior.\n",
      "  _warn_prf(average, modifier, msg_start, len(result))\n"
     ]
    },
    {
     "name": "stdout",
     "output_type": "stream",
     "text": [
      "Metrics for Depth = 1 and Number of Estimators = 1\n",
      "Accuracy: 0.39936\n",
      "Precision: 0.25000119215455696\n",
      "Recall: 0.4\n",
      "F1-score: 0.28000936044384567\n",
      "Confusion Matrix:\n",
      "[[19909     0     0     0     0]\n",
      " [    0 20027     0     0     0]\n",
      " [    1 20165     0     0     0]\n",
      " [    0 20024     0     0     0]\n",
      " [    0 19874     0     0     0]]\n",
      "Metrics for Depth = 5 and Number of Estimators = 1\n",
      "Accuracy: 0.73932\n",
      "Precision: 0.7454376708136329\n",
      "Recall: 0.7399680758213174\n",
      "F1-score: 0.6731863783866674\n",
      "Confusion Matrix:\n",
      "[[19909     0     0     0     0]\n",
      " [    0 19968     0    59     0]\n",
      " [    0     1 14738     0  5427]\n",
      " [    0 19968     0    56     0]\n",
      " [    0     0   613     0 19261]]\n",
      "Metrics for Depth = 10 and Number of Estimators = 1\n",
      "Accuracy: 0.78037\n",
      "Precision: 0.7820885823482935\n",
      "Recall: 0.7807679731140469\n",
      "F1-score: 0.7610073301927958\n",
      "Confusion Matrix:\n",
      "[[19909     0     0     0     0]\n",
      " [    0 16001     0  4026     0]\n",
      " [    0     1 18277     0  1888]\n",
      " [    0 15993     0  4031     0]\n",
      " [    0     0    55     0 19819]]\n",
      "Metrics for Depth = 20 and Number of Estimators = 1\n",
      "Accuracy: 0.79092\n",
      "Precision: 0.7949380436333222\n",
      "Recall: 0.7912412987874824\n",
      "F1-score: 0.74324483451262\n",
      "Confusion Matrix:\n",
      "[[19909     0     0     0     0]\n",
      " [    0 18885     0  1142     0]\n",
      " [    0     1 19185     0   980]\n",
      " [    0 18785     0  1239     0]\n",
      " [    0     0     0     0 19874]]\n",
      "Metrics for Depth = 50 and Number of Estimators = 1\n",
      "Accuracy: 0.80221\n",
      "Precision: 0.8024624337114951\n",
      "Recall: 0.8024630532783533\n",
      "F1-score: 0.8024153989386003\n",
      "Confusion Matrix:\n",
      "[[19909     0     0     0     0]\n",
      " [    0 10458     0  9569     0]\n",
      " [    0     0 20139     0    27]\n",
      " [    0 10180     0  9844     0]\n",
      " [    0     0     3     0 19871]]\n",
      "Metrics for Depth = 100 and Number of Estimators = 1\n",
      "Accuracy: 0.81724\n",
      "Precision: 0.8179515057016449\n",
      "Recall: 0.8174768809064397\n",
      "F1-score: 0.8162801523353904\n",
      "Confusion Matrix:\n",
      "[[19909     0     0     0     0]\n",
      " [    0  9284     0 10743     0]\n",
      " [    0     1 20141     0    24]\n",
      " [    0  7508     0 12516     0]\n",
      " [    0     0     0     0 19874]]\n"
     ]
    },
    {
     "name": "stderr",
     "output_type": "stream",
     "text": [
      "c:\\Users\\Jay\\Documents\\Github\\MSE413-ML\\venv\\Lib\\site-packages\\sklearn\\metrics\\_classification.py:1471: UndefinedMetricWarning: Precision is ill-defined and being set to 0.0 in labels with no predicted samples. Use `zero_division` parameter to control this behavior.\n",
      "  _warn_prf(average, modifier, msg_start, len(result))\n"
     ]
    },
    {
     "name": "stdout",
     "output_type": "stream",
     "text": [
      "Metrics for Depth = 1 and Number of Estimators = 10\n",
      "Accuracy: 0.59807\n",
      "Precision: 0.3992556558760151\n",
      "Recall: 0.6\n",
      "F1-score: 0.4660073752770124\n",
      "Confusion Matrix:\n",
      "[[19909     0     0     0     0]\n",
      " [    0     0     0 20027     0]\n",
      " [    1     0     0     1 20164]\n",
      " [    0     0     0 20024     0]\n",
      " [    0     0     0     0 19874]]\n",
      "Metrics for Depth = 5 and Number of Estimators = 10\n",
      "Accuracy: 0.75836\n",
      "Precision: 0.7623577150965011\n",
      "Recall: 0.7588746409556316\n",
      "F1-score: 0.7386362838533248\n",
      "Confusion Matrix:\n",
      "[[19909     0     0     0     0]\n",
      " [    0  4024     0 16003     0]\n",
      " [    0     1 16606     0  3559]\n",
      " [    0  3947     0 16077     0]\n",
      " [    0     0   654     0 19220]]\n",
      "Metrics for Depth = 10 and Number of Estimators = 10\n",
      "Accuracy: 0.78396\n",
      "Precision: 0.7854801816741014\n",
      "Recall: 0.7843526587786991\n",
      "F1-score: 0.7838704988755278\n",
      "Confusion Matrix:\n",
      "[[19909     0     0     0     0]\n",
      " [    0 10936     0  9091     0]\n",
      " [    0     1 18427     0  1738]\n",
      " [    0 10745     0  9279     0]\n",
      " [    0     0    29     0 19845]]\n",
      "Metrics for Depth = 20 and Number of Estimators = 10\n",
      "Accuracy: 0.80172\n",
      "Precision: 0.8023576914931306\n",
      "Recall: 0.8020400019942867\n",
      "F1-score: 0.8019686718510283\n",
      "Confusion Matrix:\n",
      "[[19909     0     0     0     0]\n",
      " [    0 10630     0  9397     0]\n",
      " [    0     1 19195     0   970]\n",
      " [    0  9460     0 10564     0]\n",
      " [    0     0     0     0 19874]]\n",
      "Metrics for Depth = 50 and Number of Estimators = 10\n",
      "Accuracy: 0.85724\n",
      "Precision: 0.8590363481179656\n",
      "Recall: 0.8574196603991918\n",
      "F1-score: 0.8564435250960439\n",
      "Confusion Matrix:\n",
      "[[19909     0     0     0     0]\n",
      " [    0 14545     0  5482     0]\n",
      " [    0     1 20161     0     4]\n",
      " [    0  8789     0 11235     0]\n",
      " [    0     0     0     0 19874]]\n",
      "Metrics for Depth = 100 and Number of Estimators = 10\n",
      "Accuracy: 0.90332\n",
      "Precision: 0.9039763524436518\n",
      "Recall: 0.9034424572209773\n",
      "F1-score: 0.9033207323624991\n",
      "Confusion Matrix:\n",
      "[[19909     0     0     0     0]\n",
      " [    0 15911     0  4116     0]\n",
      " [    0     1 20160     0     5]\n",
      " [    0  5546     0 14478     0]\n",
      " [    0     0     0     0 19874]]\n"
     ]
    },
    {
     "name": "stderr",
     "output_type": "stream",
     "text": [
      "c:\\Users\\Jay\\Documents\\Github\\MSE413-ML\\venv\\Lib\\site-packages\\sklearn\\metrics\\_classification.py:1471: UndefinedMetricWarning: Precision is ill-defined and being set to 0.0 in labels with no predicted samples. Use `zero_division` parameter to control this behavior.\n",
      "  _warn_prf(average, modifier, msg_start, len(result))\n"
     ]
    },
    {
     "name": "stdout",
     "output_type": "stream",
     "text": [
      "Metrics for Depth = 1 and Number of Estimators = 20\n",
      "Accuracy: 0.59807\n",
      "Precision: 0.3992556558760151\n",
      "Recall: 0.6\n",
      "F1-score: 0.4660073752770124\n",
      "Confusion Matrix:\n",
      "[[19909     0     0     0     0]\n",
      " [    0     0     0 20027     0]\n",
      " [    1     0     0     1 20164]\n",
      " [    0     0     0 20024     0]\n",
      " [    0     0     0     0 19874]]\n",
      "Metrics for Depth = 5 and Number of Estimators = 20\n",
      "Accuracy: 0.75349\n",
      "Precision: 0.7574295206836714\n",
      "Recall: 0.7540149289062501\n",
      "F1-score: 0.746961308021828\n",
      "Confusion Matrix:\n",
      "[[19909     0     0     0     0]\n",
      " [    0 13506     0  6521     0]\n",
      " [    0     1 16341     0  3824]\n",
      " [    0 13651     0  6373     0]\n",
      " [    0     0   654     0 19220]]\n",
      "Metrics for Depth = 10 and Number of Estimators = 20\n",
      "Accuracy: 0.78735\n",
      "Precision: 0.7886400558153074\n",
      "Recall: 0.7877280100460128\n",
      "F1-score: 0.7875207301326188\n",
      "Confusion Matrix:\n",
      "[[19909     0     0     0     0]\n",
      " [    0 10591     0  9436     0]\n",
      " [    0     1 18602     0  1563]\n",
      " [    0 10252     0  9772     0]\n",
      " [    0     0    13     0 19861]]\n",
      "Metrics for Depth = 20 and Number of Estimators = 20\n",
      "Accuracy: 0.80746\n",
      "Precision: 0.8081115814346822\n",
      "Recall: 0.8077681795024277\n",
      "F1-score: 0.8074670995366094\n",
      "Confusion Matrix:\n",
      "[[19909     0     0     0     0]\n",
      " [    0 10126     0  9901     0]\n",
      " [    0     1 19276     0   889]\n",
      " [    0  8463     0 11561     0]\n",
      " [    0     0     0     0 19874]]\n"
     ]
    }
   ],
   "source": [
    "# Train different random forest classifiers with a number of estimators=[1, 10, 20,100] and maximum depths= [1, 5, 10, 20,100]\n",
    "\n",
    "estimators = [1, 10, 20, 100]\n",
    "max_depths = [1, 5, 10, 20, 100]\n",
    "\n",
    "accuracy = {} \n",
    "results_dict = {}\n",
    "for estimator in estimators:\n",
    "    for depth in depths:\n",
    "        # Call the RF_metrics function\n",
    "        RF_accuracy, _, _, _, _, _, feature_importances = RF_metrics(Y_test, X_test, X_train, Y_train, depth, estimator)\n",
    "        # Store the accuracy in the dictionary\n",
    "        accuracy[f'RF_accuracy_est_{estimator}_depth_{depth}'] = RF_accuracy\n",
    "        # Store feature importances in the dictionary\n",
    "        results_dict[f'RF_feature_importances_est_{estimator}_depth_{depth}'] = feature_importances\n"
   ]
  },
  {
   "cell_type": "code",
   "execution_count": null,
   "metadata": {},
   "outputs": [],
   "source": [
    "# 3.6 Using Mean Decrease in Impurity, show which feature has the highest importance in prediction\n",
    "\n",
    "# MDI is used in the function RF_metrics, to return RF_clf_feature_importances in the results_dict. Plotting this below results in:\n",
    "for estimator in estimators:\n",
    "    for depth in depths:\n",
    "        feature_importances = results_dict[f'RF_feature_importances_est_{estimator}_depth_{depth}']\n",
    "        feature_names = X_train.columns\n",
    "        sorted_indices = np.argsort(feature_importances)[::-1]\n",
    "        sorted_feature_importances = feature_importances[sorted_indices]\n",
    "        sorted_feature_names = feature_names[sorted_indices]\n",
    "\n",
    "        plt.figure(figsize=(10, 6))\n",
    "        plt.bar(range(len(sorted_feature_importances)), sorted_feature_importances)\n",
    "        plt.xticks(range(len(sorted_feature_importances)), sorted_feature_names, rotation=90)\n",
    "        plt.xlabel('Feature')\n",
    "        plt.ylabel('Mean Decrease in Impurity')\n",
    "        plt.title(f'Feature Importance in Random Forest Classifier (Estimators={estimator}, Depth={depth})')\n",
    "        plt.show()"
   ]
  },
  {
   "cell_type": "markdown",
   "metadata": {},
   "source": [
    "# 4.1 K-Nearest Neighbours (KNN)"
   ]
  },
  {
   "cell_type": "code",
   "execution_count": null,
   "metadata": {},
   "outputs": [],
   "source": [
    "# 4.1 Split the dataset into training (80%) and test set (20%). Consider random effects in splitting the dataset\n"
   ]
  }
 ],
 "metadata": {
  "kernelspec": {
   "display_name": "venv",
   "language": "python",
   "name": "python3"
  },
  "language_info": {
   "codemirror_mode": {
    "name": "ipython",
    "version": 3
   },
   "file_extension": ".py",
   "mimetype": "text/x-python",
   "name": "python",
   "nbconvert_exporter": "python",
   "pygments_lexer": "ipython3",
   "version": "3.11.7"
  }
 },
 "nbformat": 4,
 "nbformat_minor": 2
}
